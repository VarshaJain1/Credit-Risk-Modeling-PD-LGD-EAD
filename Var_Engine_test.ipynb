{
  "nbformat": 4,
  "nbformat_minor": 0,
  "metadata": {
    "colab": {
      "provenance": []
    },
    "kernelspec": {
      "name": "python3",
      "display_name": "Python 3"
    },
    "language_info": {
      "name": "python"
    }
  },
  "cells": [
    {
      "cell_type": "code",
      "execution_count": 4,
      "metadata": {
        "colab": {
          "base_uri": "https://localhost:8080/"
        },
        "id": "JwNva7J2H6SB",
        "outputId": "ffeb89be-ae78-4206-95f3-bbe1c0ce66e8"
      },
      "outputs": [
        {
          "output_type": "stream",
          "name": "stdout",
          "text": [
            "✅ All tests passed!\n"
          ]
        }
      ],
      "source": [
        "import numpy as np\n",
        "import pandas as pd\n",
        "import matplotlib.pyplot as plt\n",
        "\n",
        "# ---- Simulated versions of your src functions ----\n",
        "def generate_synthetic_prices(n_assets=4, n_days=1250, seed=None):\n",
        "    if seed is not None:\n",
        "        np.random.seed(seed)\n",
        "    prices = np.cumprod(1 + np.random.normal(0.0005, 0.01, size=(n_days, n_assets)), axis=0) * 100\n",
        "    return pd.DataFrame(prices, columns=[f\"Asset_{i+1}\" for i in range(n_assets)])\n",
        "\n",
        "def example_weights(n_assets):\n",
        "    w = np.ones(n_assets) / n_assets\n",
        "    return w\n",
        "\n",
        "def portfolio_returns_from_prices(prices, weights):\n",
        "    returns = prices.pct_change().dropna()\n",
        "    portfolio_ret = returns.dot(weights)\n",
        "    return portfolio_ret\n",
        "\n",
        "def parametric_var(returns, weights=None, alpha=0.05):\n",
        "    mean = returns.mean()\n",
        "    std = returns.std()\n",
        "    from scipy.stats import norm\n",
        "    return - (mean + std * norm.ppf(alpha))\n",
        "\n",
        "def historical_var(returns, alpha=0.05):\n",
        "    return - np.percentile(returns, 100 * alpha)\n",
        "\n",
        "def monte_carlo_var(mu, cov, weights, n_sims=50000, alpha=0.05):\n",
        "    sims = np.random.multivariate_normal(mu, cov, size=n_sims)\n",
        "    port_sims = sims.dot(weights)\n",
        "    return - np.percentile(port_sims, 100 * alpha)\n",
        "\n",
        "def test_portfolio_returns_shape():\n",
        "    prices = generate_synthetic_prices(n_assets=3, n_days=50, seed=1)\n",
        "    w = example_weights(3)\n",
        "    prs = portfolio_returns_from_prices(prices, w)\n",
        "    assert len(prs) == 49\n",
        "\n",
        "def test_parametric_vs_historical_small():\n",
        "    prices = generate_synthetic_prices(n_assets=1, n_days=500, seed=2)\n",
        "    w = example_weights(1)\n",
        "    prs = portfolio_returns_from_prices(prices, w)\n",
        "    pvar = parametric_var(prs, weights=None, alpha=0.05)\n",
        "    hvar = historical_var(prs, alpha=0.05)\n",
        "    assert pvar >= 0 and hvar >= 0\n",
        "\n",
        "# Run tests\n",
        "test_portfolio_returns_shape()\n",
        "test_parametric_vs_historical_small()\n",
        "print(\"✅ All tests passed!\")"
      ]
    }
  ]
}