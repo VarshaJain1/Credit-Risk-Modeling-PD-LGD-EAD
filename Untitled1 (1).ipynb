{
  "nbformat": 4,
  "nbformat_minor": 0,
  "metadata": {
    "colab": {
      "provenance": []
    },
    "kernelspec": {
      "name": "python3",
      "display_name": "Python 3"
    },
    "language_info": {
      "name": "python"
    }
  },
  "cells": [
    {
      "cell_type": "code",
      "execution_count": 3,
      "metadata": {
        "id": "zWKHoT2m9Zu_"
      },
      "outputs": [],
      "source": [
        "\"\"\"Core VaR functions: parametric, historical, monte carlo.\"\"\"\n",
        "from typing import Sequence, Tuple\n",
        "import numpy as np\n",
        "import pandas as pd\n",
        "from scipy.stats import norm\n",
        "\n",
        "def portfolio_returns_from_prices(price_df: pd.DataFrame, weights: np.ndarray) -> pd.Series:\n",
        "    \"\"\"Compute portfolio returns (log returns) from a DataFrame of prices (columns = assets).\n",
        "    price_df: rows = timestamps, columns = asset tickers\n",
        "    weights: 1D array of portfolio weights (sum to 1)\n",
        "    Returns a pd.Series of portfolio returns.\n",
        "    \"\"\"\n",
        "    # use simple returns\n",
        "    returns = price_df.pct_change().dropna()\n",
        "    port_ret = returns.values @ weights\n",
        "    return pd.Series(port_ret, index=returns.index)\n",
        "\n",
        "def parametric_var(returns: pd.Series, weights: np.ndarray, alpha: float = 0.01, days: int = 1) -> float:\n",
        "    \"\"\"Parametric (variance-covariance) VaR for daily returns.\n",
        "    returns: DataFrame of asset returns (or Series of portfolio returns if already aggregated)\n",
        "    weights: if returns is DataFrame, provide weights; if Series, pass weights=None\n",
        "    alpha: tail probability (e.g., 0.01 for 99% VaR)\n",
        "    days: holding period in trading days\n",
        "    Returns VaR as a positive number (loss) expected over `days`.\n",
        "    \"\"\"\n",
        "    if isinstance(returns, pd.DataFrame):\n",
        "        mu = returns.mean().values\n",
        "        cov = returns.cov().values\n",
        "        port_mean = mu @ weights\n",
        "        port_std = np.sqrt(weights.T @ cov @ weights)\n",
        "    else:\n",
        "        # returns is Series of portfolio returns\n",
        "        port_mean = returns.mean()\n",
        "        port_std = returns.std()\n",
        "\n",
        "    z = norm.ppf(alpha)\n",
        "    # scale for days (assuming iid): mean*days + z * std * sqrt(days)\n",
        "    var = -(port_mean * days + z * port_std * np.sqrt(days))\n",
        "    return float(var)\n",
        "\n",
        "def historical_var(portfolio_returns: pd.Series, alpha: float = 0.01, days: int = 1) -> float:\n",
        "    \"\"\"Historical simulation VaR: empirical quantile of historical portfolio returns.\n",
        "    Returns positive loss.\n",
        "    \"\"\"\n",
        "    # scale by sqrt(days) if you want time scaling, but historical should resample or aggregate returns\n",
        "    q = portfolio_returns.quantile(alpha)\n",
        "    # expected loss is negative of quantile if quantile is negative\n",
        "    return float(-q * np.sqrt(days)) if np.sqrt(days) != 1 else float(-q)\n",
        "\n",
        "def monte_carlo_var(mu: np.ndarray, cov: np.ndarray, weights: np.ndarray,\n",
        "                    n_sims: int = 100000, alpha: float = 0.01, days: int = 1, seed: int = 42) -> float:\n",
        "    \"\"\"Monte Carlo VaR using multivariate normal return simulations.\n",
        "    mu: mean vector of asset returns (daily)\n",
        "    cov: covariance matrix (daily)\n",
        "    weights: portfolio weights\n",
        "    \"\"\"\n",
        "    rng = np.random.default_rng(seed)\n",
        "    sims = rng.multivariate_normal(mean=mu * days, cov=cov * days, size=n_sims)\n",
        "    # portfolio returns per sim\n",
        "    port_sims = sims @ weights\n",
        "    q = np.quantile(port_sims, alpha)\n",
        "    return float(-q)"
      ]
    }
  ]
}