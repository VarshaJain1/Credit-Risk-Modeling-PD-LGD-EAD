{
  "nbformat": 4,
  "nbformat_minor": 0,
  "metadata": {
    "colab": {
      "provenance": []
    },
    "kernelspec": {
      "name": "python3",
      "display_name": "Python 3"
    },
    "language_info": {
      "name": "python"
    }
  },
  "cells": [
    {
      "cell_type": "code",
      "source": [
        "prices = generate_synthetic_prices(n_assets=4, n_days=1250)\n",
        "\n",
        "def example_weights(n_assets):\n",
        "    \"\"\"Generate example weights that sum to 1.\"\"\"\n",
        "    weights = np.random.dirichlet(np.ones(n_assets), size=1)[0]\n",
        "    return weights\n",
        "\n",
        "weights = example_weights(4)\n",
        "port_ret = portfolio_returns_from_prices(prices, weights)\n",
        "\n",
        "pv = parametric_var(port_ret, weights, alpha=0.03) # added weights back\n",
        "hv = historical_var(port_ret, alpha=0.06)\n",
        "\n",
        "mu = prices.pct_change().dropna().mean().values\n",
        "cov = prices.pct_change().dropna().cov().values\n",
        "mv = monte_carlo_var(mu, cov, weights, n_sims=50000, alpha=0.09)\n",
        "\n",
        "print(\"Parametric VaR (99%):\", pv)\n",
        "print(\"Historical VaR (99%):\", hv)\n",
        "print(\"Monte Carlo VaR (99%):\", mv)"
      ],
      "metadata": {
        "colab": {
          "base_uri": "https://localhost:8080/"
        },
        "id": "4MXwTUOn_Ru6",
        "outputId": "6f16607b-4d92-47ce-b4d1-35a67b88121c"
      },
      "execution_count": 9,
      "outputs": [
        {
          "output_type": "stream",
          "name": "stdout",
          "text": [
            "Parametric VaR (99%): 0.023559673324211276\n",
            "Historical VaR (99%): 0.019394207300251022\n",
            "Monte Carlo VaR (99%): 0.016643336997348403\n"
          ]
        }
      ]
    }
  ]
}