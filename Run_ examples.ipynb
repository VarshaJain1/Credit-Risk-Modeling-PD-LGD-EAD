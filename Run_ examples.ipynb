{
  "nbformat": 4,
  "nbformat_minor": 0,
  "metadata": {
    "colab": {
      "provenance": []
    },
    "kernelspec": {
      "name": "python3",
      "display_name": "Python 3"
    },
    "language_info": {
      "name": "python"
    }
  },
  "cells": [
    {
      "cell_type": "code",
      "metadata": {
        "colab": {
          "base_uri": "https://localhost:8080/"
        },
        "id": "82d7a03d",
        "outputId": "7af82465-8bb2-4416-a8d1-eee6345a890c"
      },
      "source": [
        "\"\"\"Simple example that runs all three VaR methods and prints results.\"\"\"\n",
        "# The functions from the original src module are now defined above.\n",
        "# No imports from src are needed here.\n",
        "\n",
        "prices = generate_synthetic_prices(n_assets=4, n_days=1250)\n",
        "weights = example_weights(4)\n",
        "port_ret = portfolio_returns_from_prices(prices, weights)\n",
        "\n",
        "pv = parametric_var(port_ret, alpha=0.01) # removed weights=None as it's the default\n",
        "hv = historical_var(port_ret, alpha=0.01)\n",
        "\n",
        "mu = prices.pct_change().dropna().mean().values\n",
        "cov = prices.pct_change().dropna().cov().values\n",
        "mv = monte_carlo_var(mu, cov, weights, n_sims=50000, alpha=0.01)\n",
        "\n",
        "print(\"Parametric VaR (95%):\", pv)\n",
        "print(\"Historical VaR (99%):\", hv)\n",
        "print(\"Monte Carlo VaR (99%):\", mv)"
      ],
      "execution_count": 9,
      "outputs": [
        {
          "output_type": "stream",
          "name": "stdout",
          "text": [
            "Parametric VaR (95%): -0.012186251553655948\n",
            "Historical VaR (99%): -0.011621690708519363\n",
            "Monte Carlo VaR (99%): -0.012279635293344757\n"
          ]
        }
      ]
    }
  ]
}