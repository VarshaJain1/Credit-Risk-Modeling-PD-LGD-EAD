{
  "nbformat": 4,
  "nbformat_minor": 0,
  "metadata": {
    "colab": {
      "provenance": []
    },
    "kernelspec": {
      "name": "python3",
      "display_name": "Python 3"
    },
    "language_info": {
      "name": "python"
    }
  },
  "cells": [
    {
      "cell_type": "code",
      "execution_count": 4,
      "metadata": {
        "id": "7ZfE7rd7AjRd"
      },
      "outputs": [],
      "source": [
        "import numpy as np\n",
        "import pandas as pd\n",
        "\n",
        "def generate_synthetic_prices(n_assets=4, n_days=1250, seed=42):\n",
        "    rng = np.random.default_rng(seed)\n",
        "    # simulate geometric brownian motion-like log returns\n",
        "    mu = rng.normal(0.0004, 0.0002, size=n_assets)  # daily drift\n",
        "    sigma = rng.uniform(0.008, 0.02, size=n_assets)  # daily vol\n",
        "    S0 = np.full(n_assets, 100.0)\n",
        "    dates = pd.bdate_range(end=pd.Timestamp.today(), periods=n_days)\n",
        "    prices = np.zeros((n_days, n_assets))\n",
        "    prices[0] = S0\n",
        "    for t in range(1, n_days):\n",
        "        eps = rng.normal(size=n_assets)\n",
        "        prices[t] = prices[t-1] * np.exp(mu + sigma * eps)\n",
        "    df = pd.DataFrame(prices, index=dates, columns=[f\"Asset{i+1}\" for i in range(n_assets)])\n",
        "    return df"
      ]
    }
  ]
}